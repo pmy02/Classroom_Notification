{
 "cells": [
  {
   "cell_type": "code",
   "execution_count": 7,
   "id": "462ac966",
   "metadata": {},
   "outputs": [],
   "source": [
    "import pandas as pd\n",
    "import numpy as np\n",
    "import datetime as dt\n",
    "import random\n",
    "\n",
    "# 랜덤한 날짜와 시간 생성\n",
    "def random_date(start, end):\n",
    "    return start + dt.timedelta(\n",
    "        seconds=random.randint(0, int((end - start).total_seconds())),\n",
    "    )\n",
    "\n",
    "# 랜덤한 터치수 생성\n",
    "def random_touches():\n",
    "    return random.randint(0, 100)\n",
    "\n",
    "\n",
    "# 랜덤한 건물, 강의실 생성\n",
    "#buildings = ['교양학관', '자연과학관', '공학관', '인문사회과학관']\n",
    "buildings = ['인문사회과학관']\n",
    "classrooms = [f\"인문사회과학관-{i+1}층\" for i in range(5)]\n",
    "\n",
    "# 랜덤한 날짜 범위 설정\n",
    "start_date = dt.datetime(2022, 1, 1)\n",
    "end_date = dt.datetime(2022, 1, 31)\n",
    "\n",
    "# 랜덤한 데이터 생성\n",
    "data = []\n",
    "for i in range(10000):\n",
    "    building = random.choice(buildings)\n",
    "    classroom = random.choice(classrooms)\n",
    "    date = random_date(start_date, end_date)\n",
    "    touches = random_touches()\n",
    "    data.append([building, classroom, date, touches])\n",
    "\n",
    "# 데이터프레임 생성\n",
    "df = pd.DataFrame(data, columns=['building', 'device_location', 'datetime', 'touches'])\n",
    "\n",
    "# 정렬\n",
    "df = df.sort_values(by=['device_location', 'datetime'], ascending=[True, True])\n",
    "\n",
    "# 저장\n",
    "df.to_excel('device_touches_social.xlsx', encoding='utf-8-sig', index=False)"
   ]
  }
 ],
 "metadata": {
  "kernelspec": {
   "display_name": "Python 3 (ipykernel)",
   "language": "python",
   "name": "python3"
  },
  "language_info": {
   "codemirror_mode": {
    "name": "ipython",
    "version": 3
   },
   "file_extension": ".py",
   "mimetype": "text/x-python",
   "name": "python",
   "nbconvert_exporter": "python",
   "pygments_lexer": "ipython3",
   "version": "3.9.13"
  }
 },
 "nbformat": 4,
 "nbformat_minor": 5
}
